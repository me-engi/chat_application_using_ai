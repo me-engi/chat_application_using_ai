{
  "nbformat": 4,
  "nbformat_minor": 0,
  "metadata": {
    "colab": {
      "provenance": []
    },
    "kernelspec": {
      "name": "python3",
      "display_name": "Python 3"
    },
    "language_info": {
      "name": "python"
    }
  },
  "cells": [
    {
      "cell_type": "code",
      "execution_count": null,
      "metadata": {
        "id": "ozwRXD3_yG7v"
      },
      "outputs": [],
      "source": [
        "import openai\n",
        "import os\n",
        "\n",
        "openai.api_key = os.environ[\"OPENAI_API_KEY\"]\n",
        "\n",
        "def generate_response(prompt):\n",
        "    response = openai.Completion.create(\n",
        "      engine=\"text-davinci-002\",\n",
        "      prompt=prompt,\n",
        "      max_tokens=1024,\n",
        "      n=1,\n",
        "      stop=None,\n",
        "      temperature=0.5,\n",
        "    )\n",
        "\n",
        "    return response.choices[0].text.strip()\n",
        "\n",
        "while True:\n",
        "    user_input = input(\"You: \")\n",
        "    if user_input.lower() in [\"bye\", \"goodbye\", \"exit\"]:\n",
        "        print(\"Bot: Goodbye!\")\n",
        "        break\n",
        "    prompt = f\"User: {user_input}\\nBot:\"\n",
        "    bot_response = generate_response(prompt)\n",
        "    print(f\"Bot: {bot_response}\")\n"
      ]
    }
  ]
}